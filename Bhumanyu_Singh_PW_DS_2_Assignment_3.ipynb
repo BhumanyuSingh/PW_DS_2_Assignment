{
 "cells": [
  {
   "cell_type": "markdown",
   "id": "1b8e0b0c",
   "metadata": {},
   "source": [
    "# Welcome again to my 3rd assignment of PW DS Batch 2.0"
   ]
  },
  {
   "cell_type": "markdown",
   "id": "caafba32",
   "metadata": {},
   "source": [
    "##  Q1. Create a python program to sort the given list of tuples based on integer value using a lambda function.\n",
    "[('Sachin Tendulkar', 34357), ('Ricky Ponting', 27483), ('Jack Kallis', 25534), ('Virat Kohli', 24936)]"
   ]
  },
  {
   "cell_type": "code",
   "execution_count": 1,
   "id": "7a379855",
   "metadata": {},
   "outputs": [
    {
     "name": "stdout",
     "output_type": "stream",
     "text": [
      "[('Virat Kohli', 24936), ('Jack Kallis', 25534), ('Ricky Ponting', 27483), ('Sachin Tendulkar', 34357)]\n"
     ]
    }
   ],
   "source": [
    "data = [('Sachin Tendulkar', 34357), ('Ricky Ponting', 27483), ('Jack Kallis', 25534), ('Virat Kohli', 24936)]\n",
    "\n",
    "# Sorting the list based on the second element of each tuple (integer value)\n",
    "sorted_data = sorted(data, key=lambda x: x[1])\n",
    "print(sorted_data)"
   ]
  },
  {
   "cell_type": "markdown",
   "id": "4206d212",
   "metadata": {},
   "source": [
    "## Q2. Write a Python Program to find the squares of all the numbers in the given list of integers using lambda and map functions.\n",
    "[1, 2, 3, 4, 5, 6, 7, 8, 9, 10]"
   ]
  },
  {
   "cell_type": "code",
   "execution_count": 2,
   "id": "e38c843f",
   "metadata": {},
   "outputs": [
    {
     "name": "stdout",
     "output_type": "stream",
     "text": [
      "[1, 4, 9, 16, 25, 36, 49, 64, 81, 100]\n"
     ]
    }
   ],
   "source": [
    "# As we already studed that map function is use to do operaion at every element of given iterator.\n",
    "list_input=[1, 2, 3, 4, 5, 6, 7, 8, 9, 10]\n",
    "list_output=list(map(lambda i : i**2 , list_input))\n",
    "print(list_output)"
   ]
  },
  {
   "cell_type": "markdown",
   "id": "d2bf42a7",
   "metadata": {},
   "source": [
    "## Q3. Write a python program to convert the given list of integers into a tuple of strings. Use map and lambda functions\n",
    "Given String: [1, 2, 3, 4, 5, 6, 7, 8, 9, 10]\n",
    "\n",
    "Expected output: ('1', '2', '3', '4', '5', '6', '7', '8', '9', '10')"
   ]
  },
  {
   "cell_type": "code",
   "execution_count": 3,
   "id": "48f6f6f9",
   "metadata": {},
   "outputs": [
    {
     "name": "stdout",
     "output_type": "stream",
     "text": [
      "('1', '2', '3', '4', '5', '6', '7', '8', '9', '10')\n"
     ]
    }
   ],
   "source": [
    "\"\"\"It is a very good and tricky question in which, first we will assign our input a variable(list_input)\n",
    "Then by using map function we will take operation on each element one by one.\n",
    "And also there is one trick hidden in the solution that is if we use \"i\" insist if str(i) then \n",
    "it will convert all the elements to 'i' \"\"\"\n",
    "list_input=[1, 2, 3, 4, 5, 6, 7, 8, 9, 10]\n",
    "list_out=tuple(map(lambda i : str(i),list_input))\n",
    "print(list_out)"
   ]
  },
  {
   "cell_type": "markdown",
   "id": "282c15d4",
   "metadata": {},
   "source": [
    "## Q4. Write a python program using reduce function to compute the product of a list containing numbers from 1 to 25."
   ]
  },
  {
   "cell_type": "code",
   "execution_count": 4,
   "id": "c94d96dd",
   "metadata": {},
   "outputs": [
    {
     "name": "stdout",
     "output_type": "stream",
     "text": [
      "15511210043330985984000000\n"
     ]
    }
   ],
   "source": [
    "# Reduce function is a part of functools so first we need to import this module.\n",
    "from functools import reduce\n",
    "# Below line of code will generate the list using range function\n",
    "list_input=list(range(1,26))\n",
    "# Below code is the core code where we taken our input list and do our multiplication\n",
    "product_output=reduce(lambda x,y : x*y , list_input)\n",
    "print(product_output)"
   ]
  },
  {
   "cell_type": "markdown",
   "id": "8c4616e6",
   "metadata": {},
   "source": [
    "## Q5. Write a python program to filter the numbers in a given list that are divisible by 2 and 3 using the filter function.\n",
    "[2, 3, 6, 9, 27, 60, 90, 120, 55, 46]"
   ]
  },
  {
   "cell_type": "code",
   "execution_count": 5,
   "id": "d27e9f72",
   "metadata": {},
   "outputs": [
    {
     "name": "stdout",
     "output_type": "stream",
     "text": [
      "[6, 60, 90, 120]\n"
     ]
    }
   ],
   "source": [
    "list_input=[2, 3, 6, 9, 27, 60, 90, 120, 55, 46]\n",
    "list_output=list(filter(lambda i : i%6==0 , list_input))\n",
    "print(list_output)\n",
    "# Please note that we don't have to mention if condition in filter function we just have to \n",
    "# mention the condition as we done the same in above case."
   ]
  },
  {
   "cell_type": "markdown",
   "id": "51cfe252",
   "metadata": {},
   "source": [
    "## Q6. Write a python program to find palindromes in the given list of strings using lambda and filter function.\n",
    "['python', 'php', 'aba', 'radar', 'level']"
   ]
  },
  {
   "cell_type": "code",
   "execution_count": 6,
   "id": "9c213620",
   "metadata": {},
   "outputs": [
    {
     "name": "stdout",
     "output_type": "stream",
     "text": [
      "['php', 'aba', 'radar', 'level']\n"
     ]
    }
   ],
   "source": [
    "list_input=['python', 'php', 'aba', 'radar', 'level']\n",
    "def palindrome(word):\n",
    "    if word==word[::-1]:\n",
    "        return word\n",
    "output_list=list(filter(palindrome , list_input))\n",
    "print(output_list)"
   ]
  },
  {
   "cell_type": "markdown",
   "id": "661808b8",
   "metadata": {},
   "source": [
    "# ----------------_-_-_-_-_-_-_Week 3 Assignment Completed_-_-_-_-_-_-_-----------------"
   ]
  },
  {
   "cell_type": "code",
   "execution_count": null,
   "id": "3f251379",
   "metadata": {},
   "outputs": [],
   "source": []
  }
 ],
 "metadata": {
  "kernelspec": {
   "display_name": "Python 3 (ipykernel)",
   "language": "python",
   "name": "python3"
  },
  "language_info": {
   "codemirror_mode": {
    "name": "ipython",
    "version": 3
   },
   "file_extension": ".py",
   "mimetype": "text/x-python",
   "name": "python",
   "nbconvert_exporter": "python",
   "pygments_lexer": "ipython3",
   "version": "3.9.12"
  }
 },
 "nbformat": 4,
 "nbformat_minor": 5
}

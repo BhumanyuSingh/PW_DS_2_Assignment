{
 "cells": [
  {
   "cell_type": "markdown",
   "id": "efa68bc6",
   "metadata": {},
   "source": [
    "# Welcome to my 4th assignment \n",
    "Physics Walla Data Science Batch 2.0 4th assignment 3 feb"
   ]
  },
  {
   "cell_type": "markdown",
   "id": "82d7713f",
   "metadata": {},
   "source": [
    "## Q1. Which keyword is used to create a function? Create a function to return a list of odd numbers in the range of 1 to 25."
   ]
  },
  {
   "cell_type": "markdown",
   "id": "5a3c22da",
   "metadata": {},
   "source": [
    "#### \"def\" keyword is used to create function. \n",
    "Syntax :- def name_of_function():\n",
    "                \n",
    "                \"Doc_string\"\n",
    "                \n",
    "                \"Place_code_of_the_function\"\n",
    "                \n",
    "                return output_parameter\n",
    "             "
   ]
  },
  {
   "cell_type": "code",
   "execution_count": 1,
   "id": "89b4e6b1",
   "metadata": {},
   "outputs": [
    {
     "name": "stdout",
     "output_type": "stream",
     "text": [
      "Below are the list of all odd number between 1 to 25 in which 25 is not countable\n",
      "1,3,5,7,9,11,13,15,17,19,21,23,"
     ]
    }
   ],
   "source": [
    "# Below we created an odd number function which returns all the odd number form 1 to 25.\n",
    "def odd_no():\n",
    "    for i in range(1,25):\n",
    "        if i%2!=0:\n",
    "            print(i,end=\",\")\n",
    "# Now we are calling our function\n",
    "print(\"Below are the list of all odd number between 1 to 25 in which 25 is not countable\")\n",
    "odd_no()"
   ]
  },
  {
   "cell_type": "markdown",
   "id": "91f23f3b",
   "metadata": {},
   "source": [
    "## Q2. Why *args and **kwargs is used in some functions? Create a function each for *args and **kwargs to demonstrate their use."
   ]
  },
  {
   "cell_type": "markdown",
   "id": "b43c56cc",
   "metadata": {},
   "source": [
    "If we are not sure the number of parameter will be taken to the function in that case we uses an * arguments which takes any numbers of arguments.\n",
    "There are mainly 2 types of * arguments\n",
    "1. *args:- *args refers to star arguments which takes any number of non-keyowrd arguments.\n",
    "2. **kwargs:- **kwargs refers to keyword arguments which takes any number of keyword arguments.\n",
    "\n",
    "Below we mentioned example on both types.\n"
   ]
  },
  {
   "cell_type": "markdown",
   "id": "9ead926f",
   "metadata": {},
   "source": [
    " "
   ]
  },
  {
   "cell_type": "code",
   "execution_count": 2,
   "id": "0afecfb2",
   "metadata": {},
   "outputs": [
    {
     "name": "stdout",
     "output_type": "stream",
     "text": [
      "<class 'tuple'>\n",
      "Total Number = 55\n"
     ]
    }
   ],
   "source": [
    "# Example 1 (*args)\n",
    "def add_all_nums(*args):\n",
    "    print(type(args))\n",
    "    total=0\n",
    "    for i in(args):\n",
    "        total+=i\n",
    "    return total\n",
    "total_number=add_all_nums(1,2,3,4,5,6,7,8,9,10)\n",
    "print(\"Total Number =\", total_number)\n"
   ]
  },
  {
   "cell_type": "code",
   "execution_count": 3,
   "id": "91db3f98",
   "metadata": {},
   "outputs": [
    {
     "name": "stdout",
     "output_type": "stream",
     "text": [
      "<class 'dict'>\n",
      "name : Ram\n",
      "age : 10000\n",
      "birth : ayodhya\n",
      "gender : Male\n"
     ]
    }
   ],
   "source": [
    "# Example 2 (**kwargs)\n",
    "def info(**kwargs):\n",
    "    print(type(kwargs))\n",
    "    for key,value in kwargs.items():\n",
    "        print(f\"{key} : {value}\")\n",
    "info(name=\"Ram\",age=10000,birth=\"ayodhya\",gender=\"Male\")\n",
    "    "
   ]
  },
  {
   "cell_type": "markdown",
   "id": "c011a622",
   "metadata": {},
   "source": [
    "### Q3. What is an iterator in python? Name the method used to initialise the iterator object and the method used for iteration. Use these methods to print the first five elements of the given list [2, 4, 6, 8, 10, 12, 14, 16,18, 20]."
   ]
  },
  {
   "cell_type": "markdown",
   "id": "a8a60a6e",
   "metadata": {},
   "source": [
    "Iterator : Iterator is also an object of python that contains a countable number of items. And we can access these items step by step with the help of next() function.\n",
    "Iterator is stored in the temperory memory so if you will assign a variable to iterator then it will only available for  print or iterate over only once. After that it will vanish form python garbage file.\n",
    "\n",
    "To initialize an iterator object, we can use the \"iter()\" function in python, this function takes an iterable as an argument and returns iterator object.\n",
    "\n",
    "To iterate over iterator we can use \"next(iterator_object)\" fucntion, each call to next() function returns the next element of the iterator."
   ]
  },
  {
   "cell_type": "code",
   "execution_count": 4,
   "id": "1978900d",
   "metadata": {},
   "outputs": [
    {
     "name": "stdout",
     "output_type": "stream",
     "text": [
      "2\n",
      "4\n",
      "6\n",
      "8\n",
      "10\n"
     ]
    }
   ],
   "source": [
    "# Below are the soltion of the above given problem\n",
    "given_list=[2, 4, 6, 8, 10, 12, 14, 16, 18 ,20]\n",
    "iterator_of_list=iter(given_list)\n",
    "for i in range(5):\n",
    "    print(next(iterator_of_list))"
   ]
  },
  {
   "cell_type": "markdown",
   "id": "709ab703",
   "metadata": {},
   "source": [
    "### Q4. What is a generator function in python? Why yield keyword is used? Give an example of a generator function."
   ]
  },
  {
   "cell_type": "markdown",
   "id": "0e4c4205",
   "metadata": {},
   "source": [
    "Generator:- A Generator is also a type of function that returns an iterator that produces a sequrence of values when iterated over.\n",
    "A generator function is defined like a normal function but whenever it needs to generate a value it does so with the \"yield\" keyword.\n",
    "Please note that if a normal function body have yield keyword insist of return keyword then it is automaticaly a generator function.\n",
    "\n",
    "Return keyword returns complete output of the function but the yield returns one value at a time, it only generate the next value when programmer ask it for, the best use of this yield keyword is when we are working with millions of data and we want to use only fraction of that data. So this generator and yield function comes in the picture."
   ]
  },
  {
   "cell_type": "code",
   "execution_count": 5,
   "id": "1c925240",
   "metadata": {},
   "outputs": [
    {
     "name": "stdout",
     "output_type": "stream",
     "text": [
      "10000000\n",
      "9999999\n",
      "9999998\n",
      "9999997\n",
      "9999996\n",
      "9999995\n",
      "9999994\n",
      "9999993\n",
      "9999992\n",
      "9999991\n"
     ]
    }
   ],
   "source": [
    "# Below are the example of the generator function\n",
    "# In this example we will generate last 10 values form 1 Cr.\n",
    "def last_n_digits(n):\n",
    "    for value in range(10000000,10000000-n,-1):\n",
    "        yield value\n",
    "# Here we defined our generator function and now we last 10 digits in the output.\n",
    "generated_value=last_n_digits(10)\n",
    "# Now this generated value is the iterator that we generated with the help of generator\n",
    "for i in generated_value:\n",
    "    print(i)"
   ]
  },
  {
   "cell_type": "markdown",
   "id": "5bcbbadf",
   "metadata": {},
   "source": [
    "### Q5. Create a generator function for prime numbers less than 1000. Use the next() method to print the first 20 prime numbers."
   ]
  },
  {
   "cell_type": "code",
   "execution_count": 6,
   "id": "618dbb5d",
   "metadata": {},
   "outputs": [
    {
     "name": "stdout",
     "output_type": "stream",
     "text": [
      "2\n",
      "3\n",
      "5\n",
      "7\n",
      "11\n",
      "13\n",
      "17\n",
      "19\n",
      "23\n",
      "29\n",
      "31\n",
      "37\n",
      "41\n",
      "43\n",
      "47\n",
      "53\n",
      "59\n",
      "61\n",
      "67\n",
      "71\n"
     ]
    }
   ],
   "source": [
    "def is_prime(num):\n",
    "    for i in range(2, int(num ** 0.5) + 1):\n",
    "        if num % i == 0:\n",
    "            return False\n",
    "    return True\n",
    "\n",
    "count = 0\n",
    "for num in range(2, 1000):\n",
    "    if is_prime(num):\n",
    "        print(num)\n",
    "        count += 1\n",
    "        if count == 20:\n",
    "            break\n"
   ]
  },
  {
   "cell_type": "code",
   "execution_count": null,
   "id": "73501c90",
   "metadata": {},
   "outputs": [],
   "source": []
  },
  {
   "cell_type": "code",
   "execution_count": null,
   "id": "028e7269",
   "metadata": {},
   "outputs": [],
   "source": []
  }
 ],
 "metadata": {
  "kernelspec": {
   "display_name": "Python 3 (ipykernel)",
   "language": "python",
   "name": "python3"
  },
  "language_info": {
   "codemirror_mode": {
    "name": "ipython",
    "version": 3
   },
   "file_extension": ".py",
   "mimetype": "text/x-python",
   "name": "python",
   "nbconvert_exporter": "python",
   "pygments_lexer": "ipython3",
   "version": "3.9.12"
  }
 },
 "nbformat": 4,
 "nbformat_minor": 5
}

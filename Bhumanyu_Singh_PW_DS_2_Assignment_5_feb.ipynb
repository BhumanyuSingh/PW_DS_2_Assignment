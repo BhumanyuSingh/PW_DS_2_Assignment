{
 "cells": [
  {
   "cell_type": "markdown",
   "id": "a7691c1e",
   "metadata": {},
   "source": [
    "# Bhumanyu_Singh_PW_DS_2_Assignment_5_feb "
   ]
  },
  {
   "cell_type": "markdown",
   "id": "8edf2c98",
   "metadata": {},
   "source": [
    "### Q1. Explain Class and Object with respect to Object-Oriented Programming. Give a suitable example."
   ]
  },
  {
   "cell_type": "markdown",
   "id": "74978ba3",
   "metadata": {},
   "source": [
    "Object-Oriented Programming is a programming paradigm/pattern/methodology to design a program using \"Classes\" and \"Objects\".\n",
    "OOPs treats every entity as an object and we can create \"N\" nos. of object using a class.\n",
    "\n",
    "* Class :- A Class is a blueprint/Template/Prototype or a prorper discription of the attributes and methods \n",
    "Example :- Let's take an example of a car like blue print of a car is called as class and in this car we have some attributes like colour of car, model of car, number of gates of car etc. and also class includes methods like Start, Stop, Forward speed, Reverse speed etc\n",
    "* Object :- An object is an instance of a class. Every object having Identity, State, Behaviour."
   ]
  },
  {
   "cell_type": "code",
   "execution_count": 10,
   "id": "df8e2040",
   "metadata": {},
   "outputs": [
    {
     "name": "stdout",
     "output_type": "stream",
     "text": [
      "Below are the attributes of the car\n",
      "Model of car is Honda City\n",
      "Colour of car is White\n",
      "Below are the functions of the car\n",
      "Car is started\n",
      "Car is stoped\n"
     ]
    }
   ],
   "source": [
    "# Code Example\n",
    "class Car:\n",
    "    def __init__(self,model,colour):\n",
    "        self.model=model\n",
    "        self.colour=colour\n",
    "    def start(self):\n",
    "        return \"Car is started\"\n",
    "    def stop(self):\n",
    "        return \"Car is stoped\"\n",
    "car_1=Car(\"Honda City\",\"White\")\n",
    "print(\"Below are the attributes of the car\")\n",
    "print(f\"Model of car is {car_1.model}\")\n",
    "print(f\"Colour of car is {car_1.colour}\")\n",
    "print(\"Below are the functions of the car\")\n",
    "print(car_1.start())\n",
    "print(car_1.stop())\n"
   ]
  },
  {
   "cell_type": "markdown",
   "id": "7c031ec9",
   "metadata": {},
   "source": [
    "### Q2. Name the four pillars of OOPs."
   ]
  },
  {
   "cell_type": "markdown",
   "id": "be6ebd0a",
   "metadata": {},
   "source": [
    "Four main pillars of OOPS are as below.\n",
    "1. Encapsulation \n",
    "2. Inheritance\n",
    "3. Polymorphism\n",
    "4. Abstraction"
   ]
  },
  {
   "cell_type": "markdown",
   "id": "499a34b4",
   "metadata": {},
   "source": [
    "Q3. Explain why the __init__() function is used. Give a suitable example."
   ]
  },
  {
   "cell_type": "markdown",
   "id": "4d49e54c",
   "metadata": {},
   "source": [
    "__init__ is a special method of OOPs which is known as Constructor.\n",
    "This method is used to initialise an object of the class. The constructor executed automatically at the time of object is creation.\n",
    "The prime use of the constructor is to declare and initalize data member/instance variable of class.\n",
    "\n",
    "* syntax\n",
    "\n",
    "class Name_of_class:\n",
    "\n",
    "    def _ _init_ _(self):\n",
    "    \n",
    "          # Body of constructor"
   ]
  },
  {
   "cell_type": "code",
   "execution_count": 15,
   "id": "a1f975f6",
   "metadata": {},
   "outputs": [
    {
     "name": "stdout",
     "output_type": "stream",
     "text": [
      "Inside the construcor\n",
      "All varibles are initilized\n"
     ]
    }
   ],
   "source": [
    "# Example\n",
    "class Student:\n",
    "    def __init__(self,name,age):\n",
    "        print(\"Inside the construcor\")\n",
    "        self.name=name\n",
    "        self.age=age\n",
    "        print(\"All varibles are initilized\")\n",
    "student_1=Student(\"Joy\",25)"
   ]
  },
  {
   "cell_type": "markdown",
   "id": "c55f93c0",
   "metadata": {},
   "source": [
    "### Q4. Why self is used in OOPs?"
   ]
  },
  {
   "cell_type": "markdown",
   "id": "06da03a7",
   "metadata": {},
   "source": [
    "The first argument \"self\" refers to the current object. It binds the instance to the __init__() method.\n",
    "\n",
    "Please note that it is only convection to use self as the first argument we can use any other word except any inbuit keyword."
   ]
  },
  {
   "cell_type": "markdown",
   "id": "c568fe12",
   "metadata": {},
   "source": [
    "### Q5. What is inheritance? Give an example for each type of inheritance."
   ]
  },
  {
   "cell_type": "markdown",
   "id": "a6d71659",
   "metadata": {},
   "source": [
    "Inheritance :- The process of inheriting the properties of the parent class into a child class is called Inheritance\n",
    "Alternate defination :- Deriving a new class form an existing class so that new class inherits all the members of exsisting class is called Inheritance\n",
    "The main purpose of inheritance is code reusability of code.\n"
   ]
  },
  {
   "cell_type": "markdown",
   "id": "6c4ab748",
   "metadata": {},
   "source": [
    "#### Types of Inheritance\n",
    "1. Single Inheritance\n",
    "2. Multi-level Inheritance\n",
    "3. Hierarchical Inheritance\n",
    "4. Multiple Inheritance\n",
    "5. Hybrid Inheritance"
   ]
  },
  {
   "cell_type": "markdown",
   "id": "4914c582",
   "metadata": {},
   "source": [
    "#### 1. Single Inheritance :- \n",
    "In single inheritance a child class inherits form a single-parent class. \n"
   ]
  },
  {
   "cell_type": "code",
   "execution_count": 24,
   "id": "ef1b6126",
   "metadata": {},
   "outputs": [
    {
     "name": "stdout",
     "output_type": "stream",
     "text": [
      "Inside child class\n",
      "Insid the parent class\n"
     ]
    }
   ],
   "source": [
    "# Example\n",
    "class Vehicle:\n",
    "    def vehicle_info(self):\n",
    "        return \"Insid the parent class\"\n",
    "class Car(Vehicle):\n",
    "    def car_info(self):\n",
    "        return \"Inside child class\"\n",
    "car1=Car()\n",
    "print(car1.car_info())\n",
    "print(car1.vehicle_info())"
   ]
  },
  {
   "cell_type": "markdown",
   "id": "573c6eb3",
   "metadata": {},
   "source": [
    "#### 2. Multi-level Inheritance :- \n",
    "In multi-level inheritance, a grand child class inherit form child class and this child class inherit form the parent class. In this way we inherit form multi-level."
   ]
  },
  {
   "cell_type": "code",
   "execution_count": 25,
   "id": "157c052c",
   "metadata": {},
   "outputs": [
    {
     "name": "stdout",
     "output_type": "stream",
     "text": [
      "Bhumanyu Singh Purawat\n",
      "Virendra Singh Purawat\n",
      "Girdhari Singh Purawat\n"
     ]
    }
   ],
   "source": [
    "# Example\n",
    "class Grand_father_name:\n",
    "    def __init__(self):\n",
    "        self.g_name=\"Girdhari Singh Purawat\"\n",
    "class father_name(Grand_father_name):\n",
    "    def __init__(self):\n",
    "        super().__init__()\n",
    "        self.f_name=\"Virendra Singh Purawat\"\n",
    "class child_name(father_name):\n",
    "    def __init__(self):\n",
    "        super().__init__()\n",
    "        self.c_name=\"Bhumanyu Singh Purawat\"\n",
    "student1=child_name()\n",
    "print(student1.c_name)\n",
    "print(student1.f_name)\n",
    "print(student1.g_name)\n"
   ]
  },
  {
   "cell_type": "markdown",
   "id": "bf5c79e8",
   "metadata": {},
   "source": [
    "#### 3. Hierarchical Inheritance :-\n",
    "In this inheritance, more than one child class is derived from a single parent class."
   ]
  },
  {
   "cell_type": "code",
   "execution_count": 42,
   "id": "1cd7fca7",
   "metadata": {},
   "outputs": [
    {
     "name": "stdout",
     "output_type": "stream",
     "text": [
      "Love father's name is Shree Ram\n",
      "Kush father's  name is Shree Ram\n"
     ]
    }
   ],
   "source": [
    "class Father:\n",
    "    def __init__(self):\n",
    "        self.father_name=\"Shree Ram\"\n",
    "class Child_1(Father):\n",
    "    def __init__(self,name):\n",
    "        super().__init__()\n",
    "        self.name=name\n",
    "class Child_2(Father):\n",
    "    def __init__(self,name):\n",
    "        super().__init__()\n",
    "        self.name=name\n",
    "child1=Child_1(\"Love\")\n",
    "print(f\"{child1.name} father's name is {child1.father_name}\")\n",
    "child2=Child_2(\"Kush\")\n",
    "print(f\"{child2.name} father's  name is {child2.father_name}\")\n"
   ]
  },
  {
   "cell_type": "markdown",
   "id": "f91782f1",
   "metadata": {},
   "source": [
    "#### 4. Multiple Inheritance :-\n",
    "A child class inheritance form multiple parent class."
   ]
  },
  {
   "cell_type": "code",
   "execution_count": 50,
   "id": "a96983d6",
   "metadata": {},
   "outputs": [
    {
     "name": "stdout",
     "output_type": "stream",
     "text": [
      "Love & Kush parents name is Shree Ram & Mata Jhanki\n"
     ]
    }
   ],
   "source": [
    "class Father:\n",
    "    def __init__(self):\n",
    "        self.f_name=\"Shree Ram\"\n",
    "class Mother:\n",
    "    def __init__(self):\n",
    "        super().__init__()\n",
    "        self.m_name=\"Mata Jhanki\"\n",
    "class Child(Mother,Father):\n",
    "    def __init__(self):\n",
    "        super().__init__()\n",
    "        self.name=\"Love & Kush\"\n",
    "childs=Child()\n",
    "print(f\"{childs.name} parents name is {childs.f_name} & {childs.m_name}\")"
   ]
  },
  {
   "cell_type": "markdown",
   "id": "c3e112bf",
   "metadata": {},
   "source": [
    "#### 5. Hybrit Inheritance :-\n",
    "When inheritance is consists fo multiple types or a combination of different inheritance"
   ]
  },
  {
   "cell_type": "code",
   "execution_count": 56,
   "id": "65e9f42d",
   "metadata": {},
   "outputs": [
    {
     "name": "stdout",
     "output_type": "stream",
     "text": [
      "Inside vehicle class\n",
      "Inside sports Class\n"
     ]
    }
   ],
   "source": [
    "class Vehicle:\n",
    "    def vehicle_info(self):\n",
    "        print(\"Inside vehicle class\")\n",
    "class Car(Vehicle):\n",
    "    def car_info(self):\n",
    "        print(\"Inside car class\")\n",
    "class Truck(Vehicle):\n",
    "    def truck_info(self):\n",
    "        print(\"Inside truck Class\")\n",
    "class Sport_Car(Car,Vehicle):\n",
    "    def sport_car_info(self):\n",
    "        print(\"Inside sports Class\")\n",
    "audi_a=Sport_Car()\n",
    "audi_a.vehicle_info()\n",
    "audi_a.sport_car_info()\n"
   ]
  },
  {
   "cell_type": "code",
   "execution_count": null,
   "id": "d9522097",
   "metadata": {},
   "outputs": [],
   "source": []
  }
 ],
 "metadata": {
  "kernelspec": {
   "display_name": "Python 3 (ipykernel)",
   "language": "python",
   "name": "python3"
  },
  "language_info": {
   "codemirror_mode": {
    "name": "ipython",
    "version": 3
   },
   "file_extension": ".py",
   "mimetype": "text/x-python",
   "name": "python",
   "nbconvert_exporter": "python",
   "pygments_lexer": "ipython3",
   "version": "3.9.12"
  }
 },
 "nbformat": 4,
 "nbformat_minor": 5
}

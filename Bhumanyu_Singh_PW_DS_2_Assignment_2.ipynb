{
 "cells": [
  {
   "cell_type": "markdown",
   "id": "4d993d1f",
   "metadata": {},
   "source": [
    "# Welcome to my 2nd assignment of PW Skills Data Science Course. "
   ]
  },
  {
   "cell_type": "markdown",
   "id": "41c1dfd3",
   "metadata": {},
   "source": [
    "## Q1. How do you comment code in Python? What are the different types of comments?"
   ]
  },
  {
   "cell_type": "markdown",
   "id": "46552d84",
   "metadata": {},
   "source": [
    "There are mainly 2 types of comments in python programming.\n",
    "1. Single line comment\n",
    "2. Mutli lines comments\n",
    "Below are the explanatation of both types of comments with example\n",
    "\n",
    "⁕ Single line comment :  To comment out any line we will use \"#\" hash symbol in the starting of the line. There are also an shortcut to do the same. Shortcut is \"press ctrl + /\" this will comment out whole line.\n",
    "Use of this type of comment to mention small information of the in between code lines. Or we can use this as to comment out any particular line form the main code without removing.\n",
    "\n",
    "⁕ Multi-line comment :  This type of comment is use to assign multiple lines to comment out for the code. This is done by writing our sentence between tripple Quote/ tripple Apostope \"\"\" Like this \"\"\" or ''' like This '''\n"
   ]
  },
  {
   "cell_type": "code",
   "execution_count": 1,
   "id": "79317da3",
   "metadata": {},
   "outputs": [
    {
     "data": {
      "text/plain": [
       "' Similarly this is the example of second type of commenting out any sentence of multiple lines\\nThis is line 2\\nThis is line 3... and so on. '"
      ]
     },
     "execution_count": 1,
     "metadata": {},
     "output_type": "execute_result"
    }
   ],
   "source": [
    "# Example : This example itself is written on the comment section. We used hash at the starting of the line.\n",
    "\n",
    "\"\"\" Similarly this is the example of second type of commenting out any sentence of multiple lines\n",
    "This is line 2\n",
    "This is line 3... and so on. \"\"\""
   ]
  },
  {
   "cell_type": "markdown",
   "id": "826bcb2a",
   "metadata": {},
   "source": [
    "## Q2. What are variables in Python? How do you declare and assign values to variables?"
   ]
  },
  {
   "cell_type": "markdown",
   "id": "30a94891",
   "metadata": {},
   "source": [
    "A variable is nothing but an address in which any value are stored and if we call that variable in our code then it will give that assigned value.\n",
    "Declareing and assigning values to variable is quite simple. It is very similar to our maths variable but insest of just numbers we can assign different types of data like in python we can assign String, Integer, Float, Complex number, Boolen, List, Tuple, Dictionary, Sets and so on and on..."
   ]
  },
  {
   "cell_type": "code",
   "execution_count": 2,
   "id": "bb498e81",
   "metadata": {},
   "outputs": [
    {
     "name": "stdout",
     "output_type": "stream",
     "text": [
      "10\n",
      "20.5\n",
      "['a', 'b', 'c']\n",
      "<class 'str'>\n"
     ]
    }
   ],
   "source": [
    "# Example of assigning different types of variables.\n",
    "x=10\n",
    "y=20.5\n",
    "z=[\"a\",\"b\",\"c\"]\n",
    "print(x)\n",
    "print(y)\n",
    "print(z)\n",
    "a=str(z)\n",
    "print(type(a))\n"
   ]
  },
  {
   "cell_type": "markdown",
   "id": "e3c457d2",
   "metadata": {},
   "source": [
    "## Q3. How do you convert one data type to another in Python?"
   ]
  },
  {
   "cell_type": "markdown",
   "id": "d6301537",
   "metadata": {},
   "source": [
    "To convert one data type to another we have so many rules. Some of most usefull and common rules are mentioned below.\n",
    "1. You can convert any integer type data to string type data but you can't convert all string type data to intiger type data.\n",
    "2. You can't convert any sequentional data like list, tuple, set etc into integer but you can convert them into string.\n"
   ]
  },
  {
   "cell_type": "code",
   "execution_count": 3,
   "id": "6e96589c",
   "metadata": {},
   "outputs": [
    {
     "name": "stdout",
     "output_type": "stream",
     "text": [
      "Data Type of num1 = <class 'int'>\n",
      "Data Type of num2 = <class 'float'>\n",
      "Data Type of bol1 = <class 'bool'>\n",
      "\n",
      "Result after conversion\n",
      "\n",
      "Data Type of num1 = <class 'float'>\n",
      "Data Type of num2 = <class 'str'>\n",
      "Data Type of bol1 = <class 'int'>\n"
     ]
    }
   ],
   "source": [
    "# Here is some examples to understand convertion of data types\n",
    "num1=10\n",
    "num2=20.5\n",
    "bol1=True\n",
    "\n",
    "print(f\"Data Type of num1 = {type(num1)}\")\n",
    "print(f\"Data Type of num2 = {type(num2)}\")\n",
    "print(f\"Data Type of bol1 = {type(bol1)}\")\n",
    "\n",
    "# Above are the different types of data type now we convert these data types.\n",
    "num1=float(num1)\n",
    "num2=str(num2)\n",
    "bol1=int(bol1)\n",
    "print(\"\\nResult after conversion\\n\")\n",
    "print(f\"Data Type of num1 = {type(num1)}\")\n",
    "print(f\"Data Type of num2 = {type(num2)}\")\n",
    "print(f\"Data Type of bol1 = {type(bol1)}\")\n"
   ]
  },
  {
   "cell_type": "markdown",
   "id": "609dcf40",
   "metadata": {},
   "source": [
    "## Q4. How do you write and execute a Python script from the command line?"
   ]
  },
  {
   "cell_type": "markdown",
   "id": "84632b07",
   "metadata": {},
   "source": [
    "We can create an file using .py format with the help of notepad or any other text supporing tool. Then we can write our code or script on the same file and save it. Then by using the cmd prompt we can open and run the same file in our pc.\n"
   ]
  },
  {
   "cell_type": "markdown",
   "id": "c5540023",
   "metadata": {},
   "source": [
    "## Q5. Given a list my_list = [1, 2, 3, 4, 5], write the code to slice the list and obtain the sub-list [2, 3]."
   ]
  },
  {
   "cell_type": "code",
   "execution_count": 4,
   "id": "6310cb02",
   "metadata": {},
   "outputs": [
    {
     "name": "stdout",
     "output_type": "stream",
     "text": [
      "Below are the result of method 1\n",
      "[1, 2, 3, 4, 5]\n",
      "[2, 3]\n",
      "\n",
      "Below are the result of method 2\n",
      "[2, 3]\n"
     ]
    }
   ],
   "source": [
    "# In this question we have given a main list whose name is my_list and we have to slice the same list and obtain the sub-list is [2,3]\n",
    "# Method 1 In this method we have created a new list from slicing the main list\n",
    "my_list=[1,2,3,4,5]\n",
    "sub_list=my_list[1:3]\n",
    "print(\"Below are the result of method 1\")\n",
    "\n",
    "print(my_list)\n",
    "print(sub_list)\n",
    "\n",
    "# Method 2 In this method we have updated the main list\n",
    "my_list=[1,2,3,4,5]\n",
    "my_list=my_list[1:3]\n",
    "print(\"\\nBelow are the result of method 2\")\n",
    "print(my_list)"
   ]
  },
  {
   "cell_type": "markdown",
   "id": "121720d9",
   "metadata": {},
   "source": [
    "## Q6. What is a complex number in mathematics, and how is it represented in Python?"
   ]
  },
  {
   "cell_type": "markdown",
   "id": "335862fe",
   "metadata": {},
   "source": [
    "Any number which includes real as well as imaginary part or we can say that any number which is in the form of \"A + Bi\" where A & \n",
    "B are real number and i represents imaginary number whose value is i = √-1 whose value are not possible in real thats why it is called an imaginary number.\n",
    "Complex number is also an built-in data type in python and we can represenf this data type with the below format.\n",
    " \"X + Yj\" where X and Y are the real number and j is imaginary nunber.\n",
    "\n",
    "Note :- Please note that j can be small or capital, there is no issue in the result \n",
    " "
   ]
  },
  {
   "cell_type": "code",
   "execution_count": 5,
   "id": "6a59b6dd",
   "metadata": {},
   "outputs": [
    {
     "name": "stdout",
     "output_type": "stream",
     "text": [
      "<class 'complex'>\n",
      "<class 'complex'>\n"
     ]
    }
   ],
   "source": [
    "# Let's us see an example of complex number.\n",
    "com_num1 =5 + 20j\n",
    "print(type(com_num1))\n",
    "com_num2 =5 + 2J\n",
    "print(type(com_num2))\n"
   ]
  },
  {
   "cell_type": "markdown",
   "id": "cc038016",
   "metadata": {},
   "source": [
    "## Q7. What is the correct way to declare a variable named age and assign the value 25 to it?"
   ]
  },
  {
   "cell_type": "markdown",
   "id": "2ea6a214",
   "metadata": {},
   "source": [
    "What i knows is that there is only way to declear an variable name \"age\" and its value is 25 which i belive is an integer.\n"
   ]
  },
  {
   "cell_type": "code",
   "execution_count": 6,
   "id": "8b7290b5",
   "metadata": {},
   "outputs": [
    {
     "name": "stdout",
     "output_type": "stream",
     "text": [
      "25\n"
     ]
    }
   ],
   "source": [
    "age = 25\n",
    "print(age)\n"
   ]
  },
  {
   "cell_type": "markdown",
   "id": "403462ab",
   "metadata": {},
   "source": [
    "Dear PW Skills team please suggest me if there is any other and better way to assign the variable name and which i can use in future."
   ]
  },
  {
   "cell_type": "markdown",
   "id": "83cdca4a",
   "metadata": {},
   "source": [
    "## Q8. Declare a variable named price and assign the value 9.99 to it. What data type does this variable belong to?"
   ]
  },
  {
   "cell_type": "markdown",
   "id": "e69ac392",
   "metadata": {},
   "source": [
    "As without checking this on the interpriter we can say that this is \"float\" built-in data type because it have some values after desimal.\n",
    "We can also check the same with the help of \"type\" function in the python(as shown below)."
   ]
  },
  {
   "cell_type": "code",
   "execution_count": 7,
   "id": "4a4757cd",
   "metadata": {},
   "outputs": [
    {
     "name": "stdout",
     "output_type": "stream",
     "text": [
      "<class 'float'>\n"
     ]
    }
   ],
   "source": [
    "price=9.99\n",
    "print(type(price))"
   ]
  },
  {
   "cell_type": "markdown",
   "id": "5c9c896f",
   "metadata": {},
   "source": [
    "## Q9. Create a variable named name and assign your full name to it as a string. How would you print the value of this variable?"
   ]
  },
  {
   "cell_type": "markdown",
   "id": "f6a09432",
   "metadata": {},
   "source": [
    "Yes i can do that, please refer the below code."
   ]
  },
  {
   "cell_type": "code",
   "execution_count": 8,
   "id": "7dd2ae03",
   "metadata": {},
   "outputs": [
    {
     "name": "stdout",
     "output_type": "stream",
     "text": [
      "Bhumanyu Singh Purawat\n"
     ]
    }
   ],
   "source": [
    "# Method 1:- By writing our string inside double quote \"like this\"\n",
    "name = \"Bhumanyu Singh Purawat\"\n",
    "print(name)"
   ]
  },
  {
   "cell_type": "code",
   "execution_count": 9,
   "id": "2b4fd84b",
   "metadata": {},
   "outputs": [
    {
     "name": "stdout",
     "output_type": "stream",
     "text": [
      "Bhumanyu Singh Purawat\n"
     ]
    }
   ],
   "source": [
    "# Method 2:- By writing our string inside double quote \"like this\"\n",
    "name = str(\"Bhumanyu Singh Purawat\")\n",
    "print(name)\n"
   ]
  },
  {
   "cell_type": "markdown",
   "id": "da9505db",
   "metadata": {},
   "source": [
    "## Q10. Given the string \"Hello, World!\", extract the substring \"World\"."
   ]
  },
  {
   "cell_type": "code",
   "execution_count": 10,
   "id": "b850b22a",
   "metadata": {},
   "outputs": [
    {
     "name": "stdout",
     "output_type": "stream",
     "text": [
      "World\n"
     ]
    }
   ],
   "source": [
    "text=\"Hello, World\"\n",
    "sub_text=text[7:12]\n",
    "print(sub_text)"
   ]
  },
  {
   "cell_type": "markdown",
   "id": "24c94ab1",
   "metadata": {},
   "source": [
    "## Q11. Create a variable named \"is_student\" and assign it a boolean value indicating whether you are currently a student or not."
   ]
  },
  {
   "cell_type": "code",
   "execution_count": 11,
   "id": "2c788852",
   "metadata": {},
   "outputs": [
    {
     "name": "stdout",
     "output_type": "stream",
     "text": [
      "<class 'bool'>\n"
     ]
    }
   ],
   "source": [
    "# Currently i am a studen of PW and i have to write this on bool data type so we assign \"True\" as that variable value.\n",
    "is_student=True\n",
    "print(type(is_student))"
   ]
  }
 ],
 "metadata": {
  "kernelspec": {
   "display_name": "Python 3 (ipykernel)",
   "language": "python",
   "name": "python3"
  },
  "language_info": {
   "codemirror_mode": {
    "name": "ipython",
    "version": 3
   },
   "file_extension": ".py",
   "mimetype": "text/x-python",
   "name": "python",
   "nbconvert_exporter": "python",
   "pygments_lexer": "ipython3",
   "version": "3.9.13"
  }
 },
 "nbformat": 4,
 "nbformat_minor": 5
}

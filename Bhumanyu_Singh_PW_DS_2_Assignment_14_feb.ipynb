{
 "cells": [
  {
   "cell_type": "markdown",
   "id": "8203d0b8",
   "metadata": {},
   "source": [
    "# Bhumanyu_Singh_PW_DS_2_Assignment_14_feb."
   ]
  },
  {
   "cell_type": "markdown",
   "id": "bfcbc144",
   "metadata": {},
   "source": [
    "#### Q1. What is multithreading in python? Why is it used? Name the module used to handle threads in python"
   ]
  },
  {
   "cell_type": "markdown",
   "id": "ba14e9c3",
   "metadata": {},
   "source": [
    "- Multithreading in Python is a technique that allows a Python program to run multiple threads (smaller units of a program) concurrently within a single process. Each thread can execute a separate part of the program independently, making it appear as if multiple tasks are happening simultaneously.\n",
    "\n",
    "- Multithreading in Python is used to achieve concurrency, improve application responsiveness, and utilize multiple CPU cores efficiently. \n",
    "\n",
    "- Python's Threading Module: Python provides a built-in module called threading to handle threads. This module offers high-level abstractions for creating, managing, and synchronizing threads in a Python program."
   ]
  },
  {
   "cell_type": "markdown",
   "id": "9a2b2c7d",
   "metadata": {},
   "source": [
    "#### Q2. Why threading module used? Write the use of the following functions\n",
    "- 1. activeCount()\n",
    "- 2. currentThread()\n",
    "- 3. enumerate()"
   ]
  },
  {
   "cell_type": "markdown",
   "id": "509e84b7",
   "metadata": {},
   "source": [
    "The threading module is used to work with multiple threads in python. It provides a set of classes, functions, and synchronization techniques, that makes it easier to create and manage threads.\n",
    "- 1. activeCount() : \n",
    "activeCount() is a function provided by the threading module.\n",
    "Use: It returns the number of Thread objects currently alive. In other words, it tells you how many threads are currently running or have not yet terminated.\n",
    "- 2. currentThread() :\n",
    "currentThread() function returns the current Thread object corresponding to the caller.\n",
    "Use :It allows you to access and manipulate the properties and behavior of the currently executing thread.\n",
    "This function is useful when you need to perform actions based on the properties of the current thread.\n",
    "- 3. enumerate()\n",
    "The enumerate() function returns a list of all Thread objects currently alive.\n",
    "It is a convenient way to obtain a list of all active threads, which can be useful for monitoring, debugging, or managing thread states."
   ]
  },
  {
   "cell_type": "code",
   "execution_count": 6,
   "id": "dd85c9f4",
   "metadata": {},
   "outputs": [
    {
     "name": "stdout",
     "output_type": "stream",
     "text": [
      "Number of active threads: 6\n"
     ]
    }
   ],
   "source": [
    "# Example 2.1 : activeCount()\n",
    "import threading\n",
    "def my_function():\n",
    "    pass\n",
    "# Create and start two threads\n",
    "thread1 = threading.Thread(target=my_function)\n",
    "thread2 = threading.Thread(target=my_function)\n",
    "thread1.start()\n",
    "thread2.start()\n",
    "\n",
    "# Get the number of active threads\n",
    "active_threads = threading.activeCount()\n",
    "print(f\"Number of active threads: {active_threads}\")"
   ]
  },
  {
   "cell_type": "code",
   "execution_count": 8,
   "id": "777945f1",
   "metadata": {},
   "outputs": [
    {
     "name": "stdout",
     "output_type": "stream",
     "text": [
      "Current thread name: Thread-15\n"
     ]
    }
   ],
   "source": [
    "# Example 2.2 : currentThread()\n",
    "import threading\n",
    "\n",
    "def print_thread_name():\n",
    "    current_thread = threading.currentThread()\n",
    "    print(f\"Current thread name: {current_thread.name}\")\n",
    "\n",
    "# Create and start a thread\n",
    "thread = threading.Thread(target=print_thread_name)\n",
    "thread.start()\n"
   ]
  },
  {
   "cell_type": "code",
   "execution_count": 4,
   "id": "ff4c70d9",
   "metadata": {},
   "outputs": [
    {
     "name": "stdout",
     "output_type": "stream",
     "text": [
      "Active threads: [<_MainThread(MainThread, started 16080)>, <Thread(IOPub, started daemon 12072)>, <Heartbeat(Heartbeat, started daemon 4568)>, <ControlThread(Control, started daemon 7488)>, <HistorySavingThread(IPythonHistorySavingThread, started 15464)>, <ParentPollerWindows(Thread-4, started daemon 15736)>]\n"
     ]
    }
   ],
   "source": [
    "# Example 2.3 : enumerte()\n",
    "import threading\n",
    "\n",
    "def my_function():\n",
    "    pass\n",
    "\n",
    "# Create and start three threads\n",
    "thread1 = threading.Thread(target=my_function)\n",
    "thread2 = threading.Thread(target=my_function)\n",
    "thread3 = threading.Thread(target=my_function)\n",
    "thread1.start()\n",
    "# thread2.start()\n",
    "# thread3.start()\n",
    "\n",
    "# Enumerate all active threads\n",
    "active_threads = threading.enumerate()\n",
    "print(f\"Active threads: {active_threads}\")\n",
    "\n",
    "\n",
    "\n"
   ]
  },
  {
   "cell_type": "markdown",
   "id": "566b6d75",
   "metadata": {},
   "source": [
    "#### Q 3. Explain the following functions:\n",
    "- 1. run() \n",
    "- 2. start()\n",
    "- 3. join()\n",
    "- 4. isAlive()\n"
   ]
  },
  {
   "cell_type": "markdown",
   "id": "53db2868",
   "metadata": {},
   "source": [
    "1. `run()` : This  method is a fundamental method used when creating custom thread classes by subclassing the Thread class (from the threading module).\n",
    "   - When you create a custom thread class, you can override the `run()` method to define the specific behavior that the thread should execute when started.\n",
    "   - The code within the `run()` method is the main body of work that the thread performs.\n",
    "   - When you call `start()` on a thread object, it internally calls the `run()` method to initiate the thread's execution.\n",
    "\n",
    "- Example:\n",
    "   ```python\n",
    "   import threading\n",
    "\n",
    "   class MyThread(threading.Thread):\n",
    "       def run(self):\n",
    "           # Custom code to be executed when the thread starts\n",
    "           print(\"Thread is running\")\n",
    "\n",
    "   # Create and start a custom thread\n",
    "   my_thread = MyThread()\n",
    "   my_thread.start()\n",
    "   ```"
   ]
  },
  {
   "cell_type": "markdown",
   "id": "33770072",
   "metadata": {},
   "source": [
    "2. `start()`:\n",
    "   - The `start()` method in multithreading is used to start the execution of a thread.\n",
    "   - It's important to note that you should never call the `run()` method directly; always use `start()` to start a thread.\n",
    "   \n",
    "- Example:\n",
    "   ```python\n",
    "   import threading\n",
    "\n",
    "   def my_function():\n",
    "       # Code to be executed in the thread\n",
    "\n",
    "   # Create and start a thread\n",
    "   my_thread = threading.Thread(target=my_function)\n",
    "   my_thread.start()\n",
    "   ```"
   ]
  },
  {
   "cell_type": "markdown",
   "id": "5bbd9810",
   "metadata": {},
   "source": [
    "3 `join()` : The join() method in Python's threading module is used to wait for a thread to complete its execution before moving on to the next part of the program. It's a way to synchronize the main program with the execution of threads. When a thread is joined, the program will wait until that thread finishes its task before continuing with further instructions. This is especially useful when you want to ensure that certain threads have completed their work before you proceed to process their results or perform other actions.\n",
    "\n",
    "- Example:\n",
    "   ```python\n",
    "   import threading\n",
    "\n",
    "   def my_function():\n",
    "       # Code to be executed in the thread\n",
    "\n",
    "   # Create and start a thread\n",
    "   my_thread = threading.Thread(target=my_function)\n",
    "   my_thread.start()\n",
    "\n",
    "   # Wait for the thread to complete before continuing\n",
    "   my_thread.join()\n",
    "   ```\n"
   ]
  },
  {
   "cell_type": "markdown",
   "id": "8f2159f4",
   "metadata": {},
   "source": [
    "4. isAlive() : The `isAlive()` method is used to check whether a thread is currently running (alive) or has completed its execution. It returns `True` if the thread is still running and `False` if it has finished.\n",
    " \n",
    "\n",
    "   Example:\n",
    "   ```python\n",
    "   import threading\n",
    "   import time\n",
    "\n",
    "   def my_function():\n",
    "       time.sleep(2)\n",
    "\n",
    "   # Create and start a thread\n",
    "   my_thread = threading.Thread(target=my_function)\n",
    "   my_thread.start()\n",
    "\n",
    "   # Check if the thread is alive\n",
    "   if my_thread.isAlive():\n",
    "       print(\"Thread is still running\")\n",
    "   else:\n",
    "       print(\"Thread has completed\")\n",
    "   ```\n"
   ]
  },
  {
   "cell_type": "markdown",
   "id": "ee32dace",
   "metadata": {},
   "source": [
    "#### Q 4. Write a program to create two threads. Thread one must print the list of squares and thread two must print the list of cubes.\n"
   ]
  },
  {
   "cell_type": "code",
   "execution_count": 3,
   "id": "963fb00b",
   "metadata": {},
   "outputs": [
    {
     "name": "stdout",
     "output_type": "stream",
     "text": [
      "[0, 1, 4, 9, 16]\n",
      "[0, 1, 8, 27, 64]\n"
     ]
    }
   ],
   "source": [
    "from threading import Thread\n",
    "\n",
    "def squares(len_of_list):\n",
    "    list_square=[]\n",
    "    for i in range(len_of_list):\n",
    "        list_square.append(i**2)\n",
    "    print(list_square)\n",
    "    \n",
    "def cubes(len_of_list):\n",
    "    list_cubes=[]\n",
    "    for i in range(len_of_list):\n",
    "        list_cubes.append(i**3)\n",
    "    print(list_cubes)\n",
    "    \n",
    "t1=Thread(target=squares,args=(5,))\n",
    "t2=Thread(target=cubes,args=(5,))\n",
    "\n",
    "t1.start()\n",
    "t2.start()\n",
    "\n",
    "t1.join()\n",
    "t2.join()\n"
   ]
  },
  {
   "cell_type": "markdown",
   "id": "27faaf76",
   "metadata": {},
   "source": [
    "#### Q 5. State advantages and disadvantages of multithreading ."
   ]
  },
  {
   "cell_type": "markdown",
   "id": "d6be5b2c",
   "metadata": {},
   "source": [
    "- Advantages of Multithreading:\n",
    "\n",
    "    - Improved Performance: One of the primary advantages of multithreading is improved performance. Multithreaded programs can utilize multiple CPU cores, allowing them to execute tasks concurrently. This can lead to faster execution of tasks, especially in multi-core processors.\n",
    "\n",
    "    - Responsiveness: Multithreading enhances the responsiveness of applications. By offloading time-consuming tasks to separate threads, the main (UI) thread remains responsive to user input. This ensures that an application doesn't freeze or become unresponsive during resource-intensive operations.\n",
    "\n",
    "    - Resource Sharing: Threads within the same process share resources such as memory space, which can lead to efficient resource utilization. Sharing data between threads is more straightforward than between separate processes.\n",
    "\n",
    "    - Parallelism: Multithreading enables true parallelism, where multiple tasks are executed simultaneously. This is crucial for applications that require real-time processing, like multimedia applications and games.\n",
    "\n",
    "    - Simplified Code: In some cases, multithreading can simplify code by allowing developers to separate different aspects of an application into distinct threads. This can result in cleaner and more maintainable code.\n",
    "\n",
    "- Disadvantages of Multithreading:\n",
    "\n",
    "    - Complexity: Multithreaded programming introduces complexity, as developers must manage synchronization, thread safety, and potential race conditions. Writing and debugging multithreaded code can be challenging.\n",
    "\n",
    "    - Concurrency Issues: Multithreading can introduce concurrency issues such as race conditions, deadlocks, and thread contention. Managing these issues requires careful design and synchronization techniques.\n",
    "\n",
    "    - Resource Overhead: Each thread consumes system resources, including memory and CPU time. Creating too many threads can lead to resource exhaustion and decreased performance.\n",
    "\n",
    "    - Debugging Challenges: Debugging multithreaded programs can be difficult. Issues may not be reproducible consistently, making it challenging to identify and fix problems.\n",
    "\n",
    "    - Portability: Multithreading behavior can vary between different operating systems and platforms. Code that works on one system may not behave the same way on another, requiring additional effort to ensure portability.\n"
   ]
  },
  {
   "cell_type": "markdown",
   "id": "c2aac84c",
   "metadata": {},
   "source": [
    "#### Q 6. Explain deadlocks and race conditions."
   ]
  },
  {
   "cell_type": "markdown",
   "id": "223a7941",
   "metadata": {},
   "source": [
    "- 1 Deadlocks :-\n",
    "    - Deadlocks are a specific type of concurrency issue that can occur in multithreaded or multiprocess applications. They happen when two or more threads or processes are unable to proceed with their execution because they are each waiting for the other(s) to release a resource or take some action. In a deadlock situation, the involved threads or processes are effectively stuck, and the application cannot make any progress.\n",
    "    \n",
    "    - key characteristics of deadlocks:\n",
    "\n",
    "        - Mutual Exclusion: At least two threads or processes must be involved, and they must compete for exclusive access to a resource. In the example, the resource is the last slice of pizza.\n",
    "\n",
    "        - Hold and Wait: Each thread or process must hold a resource while waiting for another resource. Alice holds her slice of pizza while waiting for Bob to offer his, and vice versa.\n",
    "\n",
    "        - No Preemption: Resources cannot be forcefully taken away from a thread or process. In our pizza scenario, no one can snatch the slice from the other person's hand.\n",
    "\n",
    "        - Circular Wait: There must be a circular chain of two or more threads or processes, each waiting for the next one in line to release a resource. Alice is waiting for Bob, Bob is waiting for Alice, and so on.\n",
    "\n",
    "- 2 Race Conditions :-\n",
    "    - It is a type of bug, generated when you do multi-processing. it occurs because two or more threads tries to update the same variable and results into unrealiable output.\n",
    "\n",
    "    - Race condition occurs when two or more then two threads are using same variable,datastructure,function  without proper synchronization of threads created an race between threads which ends up as unexpected output.\n",
    "\n",
    "    - A race condition is a concurrency-related issue that occurs when two or more threads or processes access shared resources (such as variables or data structures) concurrently and the final outcome of their operations depends on the order or timing in which these operations are executed."
   ]
  }
 ],
 "metadata": {
  "kernelspec": {
   "display_name": "Python 3 (ipykernel)",
   "language": "python",
   "name": "python3"
  },
  "language_info": {
   "codemirror_mode": {
    "name": "ipython",
    "version": 3
   },
   "file_extension": ".py",
   "mimetype": "text/x-python",
   "name": "python",
   "nbconvert_exporter": "python",
   "pygments_lexer": "ipython3",
   "version": "3.9.12"
  }
 },
 "nbformat": 4,
 "nbformat_minor": 5
}

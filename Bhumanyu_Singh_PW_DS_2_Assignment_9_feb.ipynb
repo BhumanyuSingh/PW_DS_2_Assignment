{
 "cells": [
  {
   "cell_type": "markdown",
   "id": "f7e3c1e1",
   "metadata": {},
   "source": [
    "# Welcome To Bhumanyu_Singh_PW_DS_2_Assignment_9_feb"
   ]
  },
  {
   "cell_type": "markdown",
   "id": "75b9fb3a",
   "metadata": {},
   "source": [
    "#### Q1, Create a vehicle class with an init method having instance variables as name_of_vehicle, max_speed and average_of_vehicle."
   ]
  },
  {
   "cell_type": "code",
   "execution_count": 35,
   "id": "4c61a95d",
   "metadata": {},
   "outputs": [],
   "source": [
    "class Vehicle:\n",
    "    def __init__(self,name_of_vehicle=\"Honda city\",max_speed=140,average_of_vehicle=18):\n",
    "        self.name_of_vehicle=name_of_vehicle\n",
    "        self.max_speed=max_speed\n",
    "        self.average_of_vehicle=average_of_vehicle\n"
   ]
  },
  {
   "cell_type": "markdown",
   "id": "25059183",
   "metadata": {},
   "source": [
    "#### Q2. Create a child class car from the vehicle class created in Que 1, which will inherit the vehicle class. Create a method named seating_capacity which takes capacity as an argument and returns the name of the vehicle and its seating capacity."
   ]
  },
  {
   "cell_type": "code",
   "execution_count": 36,
   "id": "913294d2",
   "metadata": {},
   "outputs": [
    {
     "name": "stdout",
     "output_type": "stream",
     "text": [
      "Honda city have 2 seating capacity.\n"
     ]
    }
   ],
   "source": [
    "class Car(Vehicle):\n",
    "    def __init__(self,no_of_seats):\n",
    "        self.no_of_seats=no_of_seats\n",
    "        super().__init__()\n",
    "    def seating_capacity(self):\n",
    "        return f\"{self.name_of_vehicle} have {self.no_of_seats} seating capacity.\"\n",
    "car1=Car(2)\n",
    "print(car1.seating_capacity())"
   ]
  },
  {
   "cell_type": "markdown",
   "id": "4e7d4960",
   "metadata": {},
   "source": [
    "#### Q3. What is multiple inheritance? Write a python code to demonstrate multiple inheritance."
   ]
  },
  {
   "cell_type": "markdown",
   "id": "19af0399",
   "metadata": {},
   "source": [
    "Multiple Inheritance :-\n",
    "A child class inheritance form multiple parent class."
   ]
  },
  {
   "cell_type": "code",
   "execution_count": 37,
   "id": "9fde6162",
   "metadata": {},
   "outputs": [
    {
     "name": "stdout",
     "output_type": "stream",
     "text": [
      "Love & Kush parents name is Shree Ram & Mata Jhanki\n"
     ]
    }
   ],
   "source": [
    "class Father:\n",
    "    def __init__(self):\n",
    "        self.f_name=\"Shree Ram\"\n",
    "class Mother:\n",
    "    def __init__(self):\n",
    "        super().__init__()\n",
    "        self.m_name=\"Mata Jhanki\"\n",
    "class Child(Mother,Father):\n",
    "    def __init__(self):\n",
    "        super().__init__()\n",
    "        self.name=\"Love & Kush\"\n",
    "childs=Child()\n",
    "print(f\"{childs.name} parents name is {childs.f_name} & {childs.m_name}\")"
   ]
  },
  {
   "cell_type": "markdown",
   "id": "c9318cea",
   "metadata": {},
   "source": [
    "#### Q4. What are getter and setter in python? Create a class and create a getter and a setter method in this class."
   ]
  },
  {
   "cell_type": "markdown",
   "id": "7a0cdac5",
   "metadata": {},
   "source": [
    "These are the methods used in oops, which helps to access the private attributes form a class\n",
    "1. Getter method usually have the prefix \"get\" followed by the name of the data member the retrieving\n"
   ]
  },
  {
   "cell_type": "code",
   "execution_count": 38,
   "id": "4642f1e9",
   "metadata": {},
   "outputs": [
    {
     "name": "stdout",
     "output_type": "stream",
     "text": [
      "1200000\n"
     ]
    }
   ],
   "source": [
    "# Example of getter method\n",
    "class Employee:\n",
    "    def __init__(self,name,salary):\n",
    "        self.name=name\n",
    "        self.__salary=salary\n",
    "    def get_sal(self):\n",
    "        return self.__salary\n",
    "employee1=Employee(\"Bhumanyu\",1200000)\n",
    "print(employee1.get_sal())"
   ]
  },
  {
   "cell_type": "markdown",
   "id": "a16dfb64",
   "metadata": {},
   "source": [
    "#### 2. Setter Method :- \n",
    "This is a method is used to set/update the private attributes form a class. It is a convection to write \"set\" as suffic of method name so that it can easily highlited from \"N\" nos. of methods. "
   ]
  },
  {
   "cell_type": "code",
   "execution_count": 39,
   "id": "aa8dc8f4",
   "metadata": {},
   "outputs": [
    {
     "name": "stdout",
     "output_type": "stream",
     "text": [
      "1200000\n",
      "2000000\n"
     ]
    }
   ],
   "source": [
    "# Example of setter method\n",
    "class Employee:\n",
    "    def __init__(self,name,salary):\n",
    "        self.name=name\n",
    "        self.__salary=salary\n",
    "    def get_sal(self):\n",
    "        return self.__salary\n",
    "    def set_sal(self,new_salary):\n",
    "        self.__salary=new_salary\n",
    "employee1=Employee(\"Bhumanyu\",1200000)\n",
    "print(employee1.get_sal())\n",
    "employee1.set_sal(2000000)\n",
    "print(employee1.get_sal())\n"
   ]
  },
  {
   "cell_type": "markdown",
   "id": "daf1a8de",
   "metadata": {},
   "source": [
    "#### Q5.What is method overriding in python? Write a python code to demonstrate method overriding."
   ]
  },
  {
   "cell_type": "markdown",
   "id": "7befed15",
   "metadata": {},
   "source": [
    "In inheritance, all members available in the parent class are by default available in the child class.\n",
    "If the child class does not statisfied with parent class implementation, then the child class is allowed to redefine the same. The method by extending additional fucntions in the child class is known as overriding."
   ]
  },
  {
   "cell_type": "code",
   "execution_count": 40,
   "id": "cb45e57d",
   "metadata": {},
   "outputs": [
    {
     "name": "stdout",
     "output_type": "stream",
     "text": [
      "Meow Meooow\n",
      "Bhao Bhaoo\n"
     ]
    }
   ],
   "source": [
    "class Animal:\n",
    "    def make_sound(self):\n",
    "        print(\"All animal makes sound\")\n",
    "class Cat(Animal):\n",
    "    def make_sound(self):\n",
    "        print(\"Meow Meooow\")\n",
    "class Dog(Animal):\n",
    "    def make_sound(self):\n",
    "        print(\"Bhao Bhaoo\")\n",
    "cat1=Cat()\n",
    "dog1=Dog()\n",
    "cat1.make_sound()\n",
    "dog1.make_sound()\n"
   ]
  },
  {
   "cell_type": "code",
   "execution_count": null,
   "id": "b1f6bbe6",
   "metadata": {},
   "outputs": [],
   "source": []
  }
 ],
 "metadata": {
  "kernelspec": {
   "display_name": "Python 3 (ipykernel)",
   "language": "python",
   "name": "python3"
  },
  "language_info": {
   "codemirror_mode": {
    "name": "ipython",
    "version": 3
   },
   "file_extension": ".py",
   "mimetype": "text/x-python",
   "name": "python",
   "nbconvert_exporter": "python",
   "pygments_lexer": "ipython3",
   "version": "3.9.12"
  }
 },
 "nbformat": 4,
 "nbformat_minor": 5
}

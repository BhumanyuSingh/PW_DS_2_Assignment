{
 "cells": [
  {
   "cell_type": "markdown",
   "id": "8203d0b8",
   "metadata": {},
   "source": [
    "# Bhumanyu_Singh_PW_DS_2_Assignment_12_feb."
   ]
  },
  {
   "cell_type": "markdown",
   "id": "fd523290",
   "metadata": {},
   "source": [
    "### Q1. What is an Exception in python? Write the difference between Exceptions and syntax errors."
   ]
  },
  {
   "cell_type": "markdown",
   "id": "1be66f18",
   "metadata": {},
   "source": [
    "Exception is an event in python which occurs during the execution of program that disrupts/stop normal flow of program\n",
    "##### Difference between Exceptions and syntax errors\n",
    "Exceptions are typically caused by problems in the program's code, such as trying to divide by zero or accessing a nonexistent variable. Exceptions can be handled by the program, and the program can continue to execute after the exception is handled.\n",
    "\n",
    "Errors are typically caused by problems in the Python interpreter itself, such as a syntax error or a memory allocation error. Errors cannot be handled by the program, and they will cause the program to terminate.\n"
   ]
  },
  {
   "cell_type": "markdown",
   "id": "54514dc8",
   "metadata": {},
   "source": [
    "### Q2. What happens when an exception is not handled? Explain with example."
   ]
  },
  {
   "cell_type": "markdown",
   "id": "a8b5de7e",
   "metadata": {},
   "source": [
    "If an exception is not handled, the program will terminate immediately. This is because the Python interpreter does not know how to deal with the exception, and it does not want to continue executing code that might cause further problems.\n"
   ]
  },
  {
   "cell_type": "code",
   "execution_count": 1,
   "id": "368482bb",
   "metadata": {},
   "outputs": [
    {
     "ename": "ValueError",
     "evalue": "n must be non-negative",
     "output_type": "error",
     "traceback": [
      "\u001b[1;31m---------------------------------------------------------------------------\u001b[0m",
      "\u001b[1;31mValueError\u001b[0m                                Traceback (most recent call last)",
      "Input \u001b[1;32mIn [1]\u001b[0m, in \u001b[0;36m<cell line: 8>\u001b[1;34m()\u001b[0m\n\u001b[0;32m      5\u001b[0m         \u001b[38;5;28;01mreturn\u001b[39;00m \u001b[38;5;241m1\u001b[39m\n\u001b[0;32m      6\u001b[0m     \u001b[38;5;28;01mreturn\u001b[39;00m n \u001b[38;5;241m*\u001b[39m factorial(n \u001b[38;5;241m-\u001b[39m \u001b[38;5;241m1\u001b[39m)\n\u001b[1;32m----> 8\u001b[0m \u001b[43mfactorial\u001b[49m\u001b[43m(\u001b[49m\u001b[38;5;241;43m-\u001b[39;49m\u001b[38;5;241;43m1\u001b[39;49m\u001b[43m)\u001b[49m\n",
      "Input \u001b[1;32mIn [1]\u001b[0m, in \u001b[0;36mfactorial\u001b[1;34m(n)\u001b[0m\n\u001b[0;32m      1\u001b[0m \u001b[38;5;28;01mdef\u001b[39;00m \u001b[38;5;21mfactorial\u001b[39m(n):\n\u001b[0;32m      2\u001b[0m     \u001b[38;5;28;01mif\u001b[39;00m n \u001b[38;5;241m<\u001b[39m \u001b[38;5;241m0\u001b[39m:\n\u001b[1;32m----> 3\u001b[0m         \u001b[38;5;28;01mraise\u001b[39;00m \u001b[38;5;167;01mValueError\u001b[39;00m(\u001b[38;5;124m\"\u001b[39m\u001b[38;5;124mn must be non-negative\u001b[39m\u001b[38;5;124m\"\u001b[39m)\n\u001b[0;32m      4\u001b[0m     \u001b[38;5;28;01mif\u001b[39;00m n \u001b[38;5;241m==\u001b[39m \u001b[38;5;241m0\u001b[39m:\n\u001b[0;32m      5\u001b[0m         \u001b[38;5;28;01mreturn\u001b[39;00m \u001b[38;5;241m1\u001b[39m\n",
      "\u001b[1;31mValueError\u001b[0m: n must be non-negative"
     ]
    }
   ],
   "source": [
    "def factorial(n):\n",
    "    if n < 0:\n",
    "        raise ValueError(\"n must be non-negative\")\n",
    "    if n == 0:\n",
    "        return 1\n",
    "    return n * factorial(n - 1)\n",
    "\n",
    "factorial(-1)\n"
   ]
  },
  {
   "cell_type": "markdown",
   "id": "37c20880",
   "metadata": {},
   "source": [
    "As you can see, the error message includes the line number where the exception was raised, as well as the name of the exception. This information can be helpful for debugging the code.\n",
    "\n",
    "It is important to handle exceptions in your code to prevent them from causing your program to terminate unexpectedly. There are a few different ways to handle exceptions in Python. You can use the try and except statements, or you can use the raise statement to raise your own exceptions.\n",
    "\n",
    "I hope this helps! Let me know if you have any other questions."
   ]
  },
  {
   "cell_type": "markdown",
   "id": "37130264",
   "metadata": {},
   "source": [
    "### Q3. Which python statements are used to catch and handle exceptions? Explain with an example."
   ]
  },
  {
   "cell_type": "markdown",
   "id": "f544f83b",
   "metadata": {},
   "source": [
    "The try and except statements are used to catch and handle exceptions. The try statement is used to enclose a block of code that might raise an exception. The except statement is used to handle the exception that is raised."
   ]
  },
  {
   "cell_type": "code",
   "execution_count": 2,
   "id": "4e96c901",
   "metadata": {},
   "outputs": [
    {
     "name": "stdout",
     "output_type": "stream",
     "text": [
      "n must be non-negative\n"
     ]
    }
   ],
   "source": [
    "# Here is an example of how to use the try and except statements to handle an exception:\n",
    "def factorial(n):\n",
    "    try:\n",
    "        if n < 0:\n",
    "            raise ValueError(\"n must be non-negative\")\n",
    "        if n == 0:\n",
    "            return 1\n",
    "        return n * factorial(n - 1)\n",
    "    except ValueError as e:\n",
    "        print(e)\n",
    "\n",
    "factorial(-1)\n"
   ]
  },
  {
   "cell_type": "markdown",
   "id": "d0423425",
   "metadata": {},
   "source": [
    "This code will raise a ValueError exception because the value of n is negative. However, the exception will be handled by the except clause, and the message n must be non-negative will be printed.\n",
    "\n",
    "The except clause can also be used to catch specific types of exceptions. For example, the following code will catch a ValueError exception or a TypeError exception:"
   ]
  },
  {
   "cell_type": "code",
   "execution_count": 6,
   "id": "a5779f21",
   "metadata": {},
   "outputs": [
    {
     "name": "stdout",
     "output_type": "stream",
     "text": [
      "n must be non-negative \n"
     ]
    }
   ],
   "source": [
    "def factorial(n):\n",
    "    try:\n",
    "        if n < 0:\n",
    "            raise ValueError(\"n must be non-negative \") #this is a place where you can write error info\n",
    "        if n == 0:\n",
    "            return 1\n",
    "        return n * factorial(n - 1)\n",
    "    except (ValueError, TypeError) as e:\n",
    "        print(e)\n",
    "\n",
    "factorial(-1)\n"
   ]
  },
  {
   "cell_type": "markdown",
   "id": "d7944b82",
   "metadata": {},
   "source": [
    "### Q4. Explain with an exmple:\n",
    "* try and else\n",
    "* finally\n",
    "* raise"
   ]
  },
  {
   "cell_type": "markdown",
   "id": "9f8c530f",
   "metadata": {},
   "source": [
    "* try :-\n",
    "The try statement is use to run a block of suspecious code in which there is a chances of raising exception.\n",
    "* else :-\n",
    "If try block runs without any exception raised then else the block of else keyword runs.\n",
    "* finally :-\n",
    "This is a statement in which any pease of code is writen will always execute without any relation with try, except, else block.\n",
    "* raise :- \n",
    "This is a keyword which allows program to write user defined exception with perticular condition.\n",
    "\n",
    "Below code will give you brief knowledge and unerstanding of all above keywords.\n"
   ]
  },
  {
   "cell_type": "code",
   "execution_count": 13,
   "id": "d076f4b8",
   "metadata": {},
   "outputs": [
    {
     "name": "stdout",
     "output_type": "stream",
     "text": [
      "Please enter your age : -1\n",
      "Please enter realistic age. Age can't be less then zero\n",
      "This prease of code always run independent to run as well as except block\n"
     ]
    }
   ],
   "source": [
    "age=int(input(\"Please enter your age : \"))\n",
    "try:\n",
    "    if age<=0:\n",
    "        raise ValueError(\"Please enter realistic age. Age can't be less then zero\")\n",
    "    elif type(age) == \"int\" or type(age)==\"float\":\n",
    "        print(\"Here\")\n",
    "        raise TypeError(\"Please mention age in integer or float data format\")\n",
    "except (ValueError,TypeError) as info:\n",
    "    print(info)\n",
    "else:\n",
    "    if 0<age<=18:\n",
    "        print(\"You can't vote this year\")\n",
    "    else:\n",
    "        print(\"You can vote\")\n",
    "finally:\n",
    "    print(\"This prease of code always run independent to run as well as except block\")"
   ]
  },
  {
   "cell_type": "markdown",
   "id": "3bfbe5f7",
   "metadata": {},
   "source": [
    "### Q5. What are Custom Exceptions in python? Why do we need Custom Exceptions? Explain with an example."
   ]
  },
  {
   "cell_type": "markdown",
   "id": "75f8f7b3",
   "metadata": {},
   "source": [
    "Custom exceptions in Python are user-defined exceptions that allow programmers to create their own exception classes to handle specific error scenarios in their code. While Python provides a wide range of built-in exceptions, sometimes it is necessary to create custom exceptions to handle unique situations or errors that are specific to a particular application or domain.\n",
    "\n",
    "We need custom exceptions for the following reasons:\n",
    "\n",
    "* Better Error Handling: Custom exceptions provide more meaningful and descriptive error messages, making it easier to understand the cause of the error and take appropriate actions.\n",
    "\n",
    "* Specific Error Cases: Custom exceptions allow developers to handle specific error cases that may not be covered by the standard Python exceptions.\n",
    "\n",
    "* Modular and Maintainable Code: By creating custom exceptions, developers can modularize the error handling logic, leading to more maintainable and organized code.\n",
    "\n",
    "\n"
   ]
  },
  {
   "cell_type": "code",
   "execution_count": 4,
   "id": "acea826c",
   "metadata": {},
   "outputs": [
    {
     "name": "stdout",
     "output_type": "stream",
     "text": [
      "Test 1\n",
      "Result of 15/3 = 5.0\n",
      "_____________________________________\n",
      "Test 2\n",
      "Result of 0/3 = 0.0\n",
      "_____________________________________\n",
      "Test 3\n",
      "ThreeDivisionError : You can't divide number by 3\n",
      "\n",
      "_____________________________________\n"
     ]
    }
   ],
   "source": [
    "# Let's see an example to understand how custom exceptions are defined and used:\n",
    "class ThreeDivisionError(Exception):\n",
    "    def __init__(self):\n",
    "        print(\"ThreeDivisionError : You can't divide number by 3\")\n",
    "def check_Divisibility(number):\n",
    "    try:\n",
    "        if number%3!=0:\n",
    "            raise ThreeDivisionError\n",
    "    except ThreeDivisionError as TDE:\n",
    "        print(TDE)\n",
    "    else:\n",
    "        print(f\"Result of {number}/3 = {number/3}\")\n",
    "    finally:\n",
    "        print(\"_____________________________________\")\n",
    "print(\"Test 1\")\n",
    "check_Divisibility(15)\n",
    "print(\"Test 2\")\n",
    "check_Divisibility(0)\n",
    "print(\"Test 3\")\n",
    "check_Divisibility(16)"
   ]
  },
  {
   "cell_type": "markdown",
   "id": "e64f7aca",
   "metadata": {},
   "source": [
    "### Q6. Create a custom exception class. Use this class to handle an exception."
   ]
  },
  {
   "cell_type": "code",
   "execution_count": 5,
   "id": "914c4bbd",
   "metadata": {},
   "outputs": [
    {
     "name": "stdout",
     "output_type": "stream",
     "text": [
      "Insufficient funds. Available balance: 1000, Withdrawal amount: 1500\n"
     ]
    }
   ],
   "source": [
    "class InsufficientFundsError(Exception):\n",
    "    \"\"\"Custom exception class for insufficient funds in an account.\"\"\"\n",
    "\n",
    "    def __init__(self, balance, amount):\n",
    "        self.balance = balance\n",
    "        self.amount = amount\n",
    "\n",
    "    def __str__(self):\n",
    "        return f\"Insufficient funds. Available balance: {self.balance}, Withdrawal amount: {self.amount}\"\n",
    "\n",
    "\n",
    "class BankAccount:\n",
    "    def __init__(self, balance):\n",
    "        self.balance = balance\n",
    "\n",
    "    def withdraw(self, amount):\n",
    "        if amount <= self.balance:\n",
    "            self.balance -= amount\n",
    "            print(f\"Withdrawal successful. New balance: {self.balance}\")\n",
    "        else:\n",
    "            raise InsufficientFundsError(self.balance, amount)\n",
    "\n",
    "\n",
    "try:\n",
    "    account = BankAccount(1000)\n",
    "    account.withdraw(1500)\n",
    "except InsufficientFundsError as e:\n",
    "    print(e)\n"
   ]
  },
  {
   "cell_type": "code",
   "execution_count": null,
   "id": "e64b657b",
   "metadata": {},
   "outputs": [],
   "source": [
    "\n"
   ]
  }
 ],
 "metadata": {
  "kernelspec": {
   "display_name": "Python 3 (ipykernel)",
   "language": "python",
   "name": "python3"
  },
  "language_info": {
   "codemirror_mode": {
    "name": "ipython",
    "version": 3
   },
   "file_extension": ".py",
   "mimetype": "text/x-python",
   "name": "python",
   "nbconvert_exporter": "python",
   "pygments_lexer": "ipython3",
   "version": "3.9.12"
  }
 },
 "nbformat": 4,
 "nbformat_minor": 5
}

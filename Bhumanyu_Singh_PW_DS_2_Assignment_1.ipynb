{
 "cells": [
  {
   "cell_type": "markdown",
   "id": "023fad39",
   "metadata": {},
   "source": [
    "# This is the Ist assignment of PW Skills Data Science Course."
   ]
  },
  {
   "cell_type": "markdown",
   "id": "ff89ce2f",
   "metadata": {},
   "source": [
    "## Q1. Create one variable containing following type of data:\n",
    "(i) string\n",
    "(ii) list\n",
    "(iii) float\n",
    "(iv) tuple"
   ]
  },
  {
   "cell_type": "code",
   "execution_count": 1,
   "id": "fa6f17da",
   "metadata": {},
   "outputs": [
    {
     "name": "stdout",
     "output_type": "stream",
     "text": [
      "['This is String', [1, 2, 3, 4, 5], 2.0, ('This', 'is', 'tuple')]\n"
     ]
    }
   ],
   "source": [
    "all_datas=[\"This is String\",[1,2,3,4,5],2.0,(\"This\",\"is\",\"tuple\")]\n",
    "print(all_datas)"
   ]
  },
  {
   "cell_type": "markdown",
   "id": "b1f4fd81",
   "metadata": {},
   "source": [
    "## Q2. Given are some following variables containing data:\n",
    "(i) var1 = ‘ ‘\n",
    "(ii) var2 = ‘[ DS , ML , Python]’\n",
    "(iii) var3 = [ ‘DS’ , ’ML’ , ‘Python’ ]\n",
    "(iv) var4 = 1.\n",
    "\n",
    "What will be the data type of the above given variable.\n"
   ]
  },
  {
   "cell_type": "code",
   "execution_count": 2,
   "id": "fdb4515b",
   "metadata": {},
   "outputs": [
    {
     "name": "stdout",
     "output_type": "stream",
     "text": [
      "Data Type of the var1 = <class 'str'>\n",
      "Data Type of the var2 = <class 'str'>\n",
      "Data Type of the var3 = <class 'list'>\n",
      "Data Type of the var4 = <class 'float'>\n"
     ]
    }
   ],
   "source": [
    "var1=''\n",
    "print(f\"Data Type of the var1 = {type(var1)}\")\n",
    "var2='[ DS , ML , Python]'\n",
    "print(f\"Data Type of the var2 = {type(var2)}\")\n",
    "var3= [ 'DS' , 'ML' , 'Python' ] \n",
    "print(f\"Data Type of the var3 = {type(var3)}\")\n",
    "var4=1.\n",
    "print(f\"Data Type of the var4 = {type(var4)}\")\n"
   ]
  },
  {
   "cell_type": "markdown",
   "id": "cc4ec0b2",
   "metadata": {},
   "source": [
    "## Q3. Explain the use of the following operators using an example:\n",
    "(i) /\n",
    "(ii) %\n",
    "(iii) //\n",
    "(iv) **"
   ]
  },
  {
   "cell_type": "code",
   "execution_count": 3,
   "id": "0b1f5b47",
   "metadata": {},
   "outputs": [
    {
     "name": "stdout",
     "output_type": "stream",
     "text": [
      "2.0\n"
     ]
    }
   ],
   "source": [
    "# (i) This \"/\" Front Slash is use to divide any number to any number as shown below.\n",
    "x=10\n",
    "y=5\n",
    "z=x/y\n",
    "print(z)\n"
   ]
  },
  {
   "cell_type": "code",
   "execution_count": 4,
   "id": "b4792b15",
   "metadata": {},
   "outputs": [
    {
     "name": "stdout",
     "output_type": "stream",
     "text": [
      "2\n"
     ]
    }
   ],
   "source": [
    "# (ii) This \"%\" Percent symbol is also use to gives the reminder of the devide and if it is completly divided then it gives 0 as remainder\n",
    "x=20\n",
    "y=3\n",
    "z=x%y\n",
    "print(z)"
   ]
  },
  {
   "cell_type": "code",
   "execution_count": 5,
   "id": "bb0232b9",
   "metadata": {},
   "outputs": [
    {
     "name": "stdout",
     "output_type": "stream",
     "text": [
      "3\n"
     ]
    }
   ],
   "source": [
    "# (ii) This \"//\" Double shash is also use to gives the whole value of the divident.\n",
    "x=19\n",
    "y=5\n",
    "z=x//y\n",
    "print(z)"
   ]
  },
  {
   "cell_type": "code",
   "execution_count": 6,
   "id": "59d2136a",
   "metadata": {},
   "outputs": [
    {
     "name": "stdout",
     "output_type": "stream",
     "text": [
      "64\n"
     ]
    }
   ],
   "source": [
    "# (ii) This \"**\" Double start is also used as power.\n",
    "x=4\n",
    "y=3\n",
    "z=x**y\n",
    "print(z)"
   ]
  },
  {
   "cell_type": "markdown",
   "id": "9b21be70",
   "metadata": {},
   "source": [
    "## Q4. Create a list of length 10 of your choice containing multiple types of data. Using for loop print the element and its data type. "
   ]
  },
  {
   "cell_type": "code",
   "execution_count": 7,
   "id": "d208dc34",
   "metadata": {},
   "outputs": [
    {
     "name": "stdout",
     "output_type": "stream",
     "text": [
      "1\n",
      "Data type of 1 is <class 'int'>\n",
      "2\n",
      "Data type of 2 is <class 'int'>\n",
      "3.0\n",
      "Data type of 3.0 is <class 'float'>\n",
      "4.0\n",
      "Data type of 4.0 is <class 'float'>\n",
      "a\n",
      "Data type of a is <class 'str'>\n",
      "['x', 'y', 'z']\n",
      "Data type of ['x', 'y', 'z'] is <class 'list'>\n",
      "('p', 'q', 'r')\n",
      "Data type of ('p', 'q', 'r') is <class 'tuple'>\n",
      "{'o', 'n', 'm'}\n",
      "Data type of {'o', 'n', 'm'} is <class 'set'>\n",
      "True\n",
      "Data type of True is <class 'bool'>\n",
      "False\n",
      "Data type of False is <class 'bool'>\n"
     ]
    }
   ],
   "source": [
    "list_10=[1,2,3.,4.0,\"a\",[\"x\",\"y\",\"z\"],(\"p\",\"q\",\"r\"),{\"m\",\"n\",\"o\"},True,False]\n",
    "for i in list_10:\n",
    "    print(i)\n",
    "    print(f\"Data type of {i} is {type(i)}\")"
   ]
  },
  {
   "cell_type": "markdown",
   "id": "bcd34ba9",
   "metadata": {},
   "source": [
    "## Q5. Using a while loop, verify if the number A is purely divisible by number B and if so then how many times it can be divisible. "
   ]
  },
  {
   "cell_type": "code",
   "execution_count": 8,
   "id": "ce480aec",
   "metadata": {},
   "outputs": [
    {
     "name": "stdout",
     "output_type": "stream",
     "text": [
      "Please enter A = 10\n",
      "Please enter B = 5\n",
      "2.0\n"
     ]
    }
   ],
   "source": [
    "A=int(input(\"Please enter A = \"))\n",
    "B=int(input(\"Please enter B = \"))\n",
    "while True:\n",
    "    if A%B==0:\n",
    "        print(A/B)\n",
    "        break\n",
    "    else:\n",
    "        print(f\"{A} can't be completely divided by {B}\")\n",
    "        break\n"
   ]
  },
  {
   "cell_type": "markdown",
   "id": "f090eba1",
   "metadata": {},
   "source": [
    "## Q6. Create a list containing 25 int type data. Using for loop and if-else condition print if the element is divisible by 3 or not. "
   ]
  },
  {
   "cell_type": "code",
   "execution_count": 9,
   "id": "3f77f54f",
   "metadata": {},
   "outputs": [
    {
     "name": "stdout",
     "output_type": "stream",
     "text": [
      "   1 is can't be divisible by 3\n",
      "   2 is can't be divisible by 3\n",
      "3 is completly divisible by 3\n",
      "   4 is can't be divisible by 3\n",
      "   5 is can't be divisible by 3\n",
      "6 is completly divisible by 3\n",
      "   7 is can't be divisible by 3\n",
      "   8 is can't be divisible by 3\n",
      "9 is completly divisible by 3\n",
      "   10 is can't be divisible by 3\n",
      "   11 is can't be divisible by 3\n",
      "12 is completly divisible by 3\n",
      "   13 is can't be divisible by 3\n",
      "   14 is can't be divisible by 3\n",
      "15 is completly divisible by 3\n",
      "   16 is can't be divisible by 3\n",
      "   17 is can't be divisible by 3\n",
      "18 is completly divisible by 3\n",
      "   19 is can't be divisible by 3\n",
      "   20 is can't be divisible by 3\n",
      "21 is completly divisible by 3\n",
      "   22 is can't be divisible by 3\n",
      "   23 is can't be divisible by 3\n",
      "24 is completly divisible by 3\n",
      "   25 is can't be divisible by 3\n"
     ]
    }
   ],
   "source": [
    "list_25=[1,2,3,4,5,6,7,8,9,10,11,12,13,14,15,16,17,18,19,20,21,22,23,24,25]\n",
    "for i in list_25:\n",
    "    if i%3==0:\n",
    "        print(f\"{i} is completly divisible by 3\")\n",
    "    else:\n",
    "        print(f\"   {i} is can't be divisible by 3\")\n",
    "        "
   ]
  },
  {
   "cell_type": "markdown",
   "id": "9fec623f",
   "metadata": {},
   "source": [
    "## Q7. What do you understand about mutable and immutable data types? Give examples for both showing this property. "
   ]
  },
  {
   "cell_type": "code",
   "execution_count": 10,
   "id": "78ede801",
   "metadata": {},
   "outputs": [
    {
     "name": "stdout",
     "output_type": "stream",
     "text": [
      "[1, 2, 3, 4]\n"
     ]
    }
   ],
   "source": [
    "# As the name itself suggesting the property like: The mutable data types are the data types that gives a feasibiliy to update,\n",
    "# change, add, remove all these operationes can be performed in mutable data types.\n",
    "# And the immutable data types are the data types which wouldn't allows to update its value.\n",
    "# For more clearification below are the given example of each data type\n",
    "\n",
    "#Below are the example of mutable data type where we used list data type.\n",
    "data_mutable=[1,5,3,3]\n",
    "data_mutable[1]=2\n",
    "data_mutable.pop()\n",
    "data_mutable.append(4)\n",
    "print(data_mutable)\n",
    "\n"
   ]
  },
  {
   "cell_type": "code",
   "execution_count": 11,
   "id": "b1d8a98d",
   "metadata": {},
   "outputs": [
    {
     "ename": "TypeError",
     "evalue": "'str' object does not support item assignment",
     "output_type": "error",
     "traceback": [
      "\u001b[1;31m---------------------------------------------------------------------------\u001b[0m",
      "\u001b[1;31mTypeError\u001b[0m                                 Traceback (most recent call last)",
      "\u001b[1;32m~\\AppData\\Local\\Temp\\ipykernel_7788\\2492067460.py\u001b[0m in \u001b[0;36m<module>\u001b[1;34m\u001b[0m\n\u001b[0;32m      1\u001b[0m \u001b[1;31m#Below are the example of immutable data type where we used string data type.\u001b[0m\u001b[1;33m\u001b[0m\u001b[1;33m\u001b[0m\u001b[0m\n\u001b[0;32m      2\u001b[0m \u001b[0mdata_immutable\u001b[0m\u001b[1;33m=\u001b[0m\u001b[1;34m\"Hallo world\"\u001b[0m\u001b[1;33m\u001b[0m\u001b[1;33m\u001b[0m\u001b[0m\n\u001b[1;32m----> 3\u001b[1;33m \u001b[0mdata_immutable\u001b[0m\u001b[1;33m[\u001b[0m\u001b[1;36m1\u001b[0m\u001b[1;33m]\u001b[0m\u001b[1;33m=\u001b[0m\u001b[1;34m\"e\"\u001b[0m\u001b[1;33m\u001b[0m\u001b[1;33m\u001b[0m\u001b[0m\n\u001b[0m",
      "\u001b[1;31mTypeError\u001b[0m: 'str' object does not support item assignment"
     ]
    }
   ],
   "source": [
    "#Below are the example of immutable data type where we used string data type.\n",
    "data_immutable=\"Hallo world\"\n",
    "data_immutable[1]=\"e\""
   ]
  },
  {
   "cell_type": "code",
   "execution_count": 12,
   "id": "bffceb5f",
   "metadata": {},
   "outputs": [],
   "source": [
    "#Above we notice that we stricked an error that error shows that str object does not support item assignment."
   ]
  },
  {
   "cell_type": "code",
   "execution_count": null,
   "id": "7a874b71",
   "metadata": {},
   "outputs": [],
   "source": []
  }
 ],
 "metadata": {
  "kernelspec": {
   "display_name": "Python 3 (ipykernel)",
   "language": "python",
   "name": "python3"
  },
  "language_info": {
   "codemirror_mode": {
    "name": "ipython",
    "version": 3
   },
   "file_extension": ".py",
   "mimetype": "text/x-python",
   "name": "python",
   "nbconvert_exporter": "python",
   "pygments_lexer": "ipython3",
   "version": "3.9.13"
  }
 },
 "nbformat": 4,
 "nbformat_minor": 5
}
